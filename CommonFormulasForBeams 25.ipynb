{
 "cells": [
  {
   "cell_type": "markdown",
   "metadata": {},
   "source": [
    "## 25. Cantilever, end load\n",
    "Common Formulas For Beams  \n",
    "        (Airframe Stress Amalysis and Sizing, Niu 2011)"
   ]
  },
  {
   "cell_type": "code",
   "execution_count": 1,
   "metadata": {
    "collapsed": false,
    "hide_input": true
   },
   "outputs": [],
   "source": [
    "from sympy import *\n",
    "import numpy as np\n",
    "from IPython.display import display\n",
    "# to print with mathjax on jupyter notebook\n",
    "init_printing()\n",
    "\n",
    "#シンボル定義\n",
    "p, x, L, E, I = symbols('P x L E I')\n",
    "r_b, v_ab = symbols('R_B V_{A-B}')\n",
    "m_ab, max_m_b = symbols('M_{A-B} Max.M_B')\n",
    "max_y_a, theta_a = symbols('Max.y_A theta_A')\n",
    "y_ab = symbols('y_{A-B}')\n",
    "\n",
    "#式定義　[0]：左辺, [1]：右辺\n",
    "expr = {r_b:p,\n",
    "       v_ab: -p,\n",
    "       m_ab: -p * x,\n",
    "       max_m_b: -p * L,\n",
    "       y_ab: -p/(6*E*I) * (x ** 3 - 3* L **2 *x + 2* L **3),\n",
    "       max_y_a: -p* L ** 3/(3*E*I),\n",
    "       theta_a: p* L ** 2/(2*E*I)}"
   ]
  },
  {
   "cell_type": "markdown",
   "metadata": {
    "hide_input": true
   },
   "source": [
    "<img src=\"./fig/SignConvention2.jpg\",width=\"400\",align=\"left\">"
   ]
  },
  {
   "cell_type": "markdown",
   "metadata": {
    "hide_input": true
   },
   "source": [
    "- Loading and Support\n",
    "\n",
    "<img src=\"./fig/NiuCommonFormulas25.jpg\", width=\"300\",align=\"left\">"
   ]
  },
  {
   "cell_type": "markdown",
   "metadata": {},
   "source": [
    "- Reactions and Shears"
   ]
  },
  {
   "cell_type": "code",
   "execution_count": 2,
   "metadata": {
    "collapsed": false,
    "hide_input": true
   },
   "outputs": [
    {
     "data": {
      "image/png": "[encoded data removed]",
      "text/latex": [
       "$$R_{B} = P$$"
      ],
      "text/plain": [
       "R_B = P"
      ]
     },
     "metadata": {},
     "output_type": "display_data"
    }
   ],
   "source": [
    "display(Eq(r_b,expr[r_b]))"
   ]
  },
  {
   "cell_type": "markdown",
   "metadata": {},
   "source": [
    "- Bending Moments"
   ]
  },
  {
   "cell_type": "code",
   "execution_count": 3,
   "metadata": {
    "collapsed": false,
    "hide_input": true
   },
   "outputs": [
    {
     "data": {
      "image/png": "[encoded data removed]",
      "text/latex": [
       "$$Max.M_{B} = - L P$$"
      ],
      "text/plain": [
       "Max.M_B = -L⋅P"
      ]
     },
     "metadata": {},
     "output_type": "display_data"
    }
   ],
   "source": [
    "display(Eq(max_m_b,expr[max_m_b]))"
   ]
  },
  {
   "cell_type": "markdown",
   "metadata": {},
   "source": [
    "- Deflections and Slopes"
   ]
  },
  {
   "cell_type": "code",
   "execution_count": 4,
   "metadata": {
    "code_folding": [],
    "collapsed": false,
    "hide_input": true
   },
   "outputs": [
    {
     "data": {
      "image/png": "[encoded data removed]",
      "text/latex": [
       "$$\\theta_{A} = \\frac{L^{2} P}{2 E I}$$"
      ],
      "text/plain": [
       "        2  \n",
       "       L ⋅P\n",
       "θ_A = ─────\n",
       "      2⋅E⋅I"
      ]
     },
     "metadata": {},
     "output_type": "display_data"
    },
    {
     "data": {
      "image/png": "[encoded data removed]",
      "text/latex": [
       "$$Max.y_{A} = - \\frac{L^{3} P}{3 E I}$$"
      ],
      "text/plain": [
       "            3   \n",
       "          -L ⋅P \n",
       "Max.y_A = ──────\n",
       "          3⋅E⋅I "
      ]
     },
     "metadata": {},
     "output_type": "display_data"
    }
   ],
   "source": [
    "display(Eq(theta_a,expr[theta_a]))\n",
    "display(Eq(max_y_a,expr[max_y_a]))"
   ]
  },
  {
   "cell_type": "markdown",
   "metadata": {},
   "source": [
    "- Input Value"
   ]
  },
  {
   "cell_type": "code",
   "execution_count": 5,
   "metadata": {
    "collapsed": false,
    "hide_input": true
   },
   "outputs": [
    {
     "data": {
      "image/png": "[encoded data removed]",
      "text/latex": [
       "$$P = 10.0$$"
      ],
      "text/plain": [
       "P = 10.0"
      ]
     },
     "metadata": {},
     "output_type": "display_data"
    },
    {
     "data": {
      "image/png": "[encoded data removed]",
      "text/latex": [
       "$$L = 1000.0$$"
      ],
      "text/plain": [
       "L = 1000.0"
      ]
     },
     "metadata": {},
     "output_type": "display_data"
    },
    {
     "data": {
      "image/png": "[encoded data removed]",
      "text/latex": [
       "$$E = 900.0$$"
      ],
      "text/plain": [
       "E = 900.0"
      ]
     },
     "metadata": {},
     "output_type": "display_data"
    },
    {
     "data": {
      "image/png": "[encoded data removed]",
      "text/latex": [
       "$$I = 1000000.0$$"
      ],
      "text/plain": [
       "I = 1000000.0"
      ]
     },
     "metadata": {},
     "output_type": "display_data"
    }
   ],
   "source": [
    "p_val= 10.\n",
    "L_val= 1*1e3\n",
    "E_val= 9* 1e2\n",
    "I_val= 1e6\n",
    "\n",
    "display(Eq(p,p_val))\n",
    "display(Eq(L,L_val))\n",
    "display(Eq(E,E_val))\n",
    "display(Eq(I,I_val))"
   ]
  },
  {
   "cell_type": "markdown",
   "metadata": {},
   "source": [
    "- Result"
   ]
  },
  {
   "cell_type": "code",
   "execution_count": 6,
   "metadata": {
    "collapsed": false,
    "hide_input": true
   },
   "outputs": [
    {
     "data": {
      "image/png": "[encoded data removed]",
      "text/latex": [
       "$$R_{B} = 10.0$$"
      ],
      "text/plain": [
       "R_B = 10.0"
      ]
     },
     "metadata": {},
     "output_type": "display_data"
    },
    {
     "data": {
      "image/png": "[encoded data removed]",
      "text/latex": [
       "$$Max.M_{B} = -10000.0$$"
      ],
      "text/plain": [
       "Max.M_B = -10000.0"
      ]
     },
     "metadata": {},
     "output_type": "display_data"
    },
    {
     "data": {
      "image/png": "[encoded data removed]",
      "text/latex": [
       "$$Max.y_{A} = -3.7037037037037$$"
      ],
      "text/plain": [
       "Max.y_A = -3.7037037037037"
      ]
     },
     "metadata": {},
     "output_type": "display_data"
    },
    {
     "data": {
      "image/png": "[encoded data removed]",
      "text/latex": [
       "$$\\theta_{A} = 0.00555555555555556$$"
      ],
      "text/plain": [
       "θ_A = 0.00555555555555556"
      ]
     },
     "metadata": {},
     "output_type": "display_data"
    }
   ],
   "source": [
    "display(Eq(r_b,expr[r_b].subs([(p,p_val)])))\n",
    "display(Eq(max_m_b,expr[max_m_b]\n",
    "           .subs([(p,p_val),(L,L_val)])))\n",
    "display(Eq(max_y_a,expr[max_y_a]\n",
    "           .subs([(p,p_val),(L,L_val),(E,E_val),(I,I_val)])))\n",
    "display(Eq(theta_a,expr[theta_a]\n",
    "           .subs([(p,p_val),(L,L_val),(E,E_val),(I,I_val)])))"
   ]
  },
  {
   "cell_type": "markdown",
   "metadata": {},
   "source": [
    "----"
   ]
  },
  {
   "cell_type": "code",
   "execution_count": 7,
   "metadata": {
    "collapsed": false,
    "hide_input": true
   },
   "outputs": [
    {
     "data": {
      "image/png": "[encoded data removed]",
      "text/latex": [
       "$$V_{A-B} = - P$$"
      ],
      "text/plain": [
       "V_{A-B} = -P"
      ]
     },
     "metadata": {},
     "output_type": "display_data"
    },
    {
     "data": {
      "image/png": "[encoded data removed]",
      "text/plain": [
       "<matplotlib.figure.Figure at 0x2bf2dca7be0>"
      ]
     },
     "metadata": {},
     "output_type": "display_data"
    },
    {
     "data": {
      "text/plain": [
       "<sympy.plotting.plot.Plot at 0x2bf2dca7dd8>"
      ]
     },
     "execution_count": 7,
     "metadata": {},
     "output_type": "execute_result"
    }
   ],
   "source": [
    "%matplotlib inline\n",
    "from sympy import init_printing\n",
    "from sympy.plotting import plot\n",
    "\n",
    "display(Eq(v_ab,expr[v_ab]))\n",
    "plot(expr[v_ab]\n",
    "     .subs([(p,p_val),(L,L_val),(E,E_val),(I,I_val)])\n",
    "     , (x, 0, L_val),\n",
    "     autoscale =True,\n",
    "    ylim=(-10.,0.))\n"
   ]
  },
  {
   "cell_type": "code",
   "execution_count": 8,
   "metadata": {
    "collapsed": false,
    "hide_input": true
   },
   "outputs": [
    {
     "data": {
      "image/png": "[encoded data removed]",
      "text/latex": [
       "$$M_{A-B} = - P x$$"
      ],
      "text/plain": [
       "M_{A-B} = -P⋅x"
      ]
     },
     "metadata": {},
     "output_type": "display_data"
    },
    {
     "data": {
      "image/png": "[encoded data removed]",
      "text/plain": [
       "<matplotlib.figure.Figure at 0x2bf2e11d7b8>"
      ]
     },
     "metadata": {},
     "output_type": "display_data"
    },
    {
     "data": {
      "text/plain": [
       "<sympy.plotting.plot.Plot at 0x2bf2e11df28>"
      ]
     },
     "execution_count": 8,
     "metadata": {},
     "output_type": "execute_result"
    }
   ],
   "source": [
    "%matplotlib inline\n",
    "from sympy import init_printing\n",
    "from sympy.plotting import plot\n",
    "display(Eq(m_ab,expr[m_ab]))\n",
    "plot(expr[m_ab]\n",
    "     .subs([(p,p_val),(L,L_val),(E,E_val),(I,I_val)])\n",
    "     , (x, 0, L_val))"
   ]
  },
  {
   "cell_type": "code",
   "execution_count": 9,
   "metadata": {
    "collapsed": false,
    "hide_input": true
   },
   "outputs": [
    {
     "data": {
      "image/png": "[encoded data removed]",
      "text/latex": [
       "$$y_{A-B} = - \\frac{P}{6 E I} \\left(2 L^{3} - 3 L^{2} x + x^{3}\\right)$$"
      ],
      "text/plain": [
       "             ⎛   3      2      3⎞ \n",
       "          -P⋅⎝2⋅L  - 3⋅L ⋅x + x ⎠ \n",
       "y_{A-B} = ────────────────────────\n",
       "                   6⋅E⋅I          "
      ]
     },
     "metadata": {},
     "output_type": "display_data"
    },
    {
     "data": {
      "image/png": "[encoded data removed]",
      "text/plain": [
       "<matplotlib.figure.Figure at 0x2bf2e11df60>"
      ]
     },
     "metadata": {},
     "output_type": "display_data"
    },
    {
     "data": {
      "text/plain": [
       "<sympy.plotting.plot.Plot at 0x2bf2e15af60>"
      ]
     },
     "execution_count": 9,
     "metadata": {},
     "output_type": "execute_result"
    }
   ],
   "source": [
    "%matplotlib inline\n",
    "from sympy import init_printing\n",
    "from sympy.plotting import plot\n",
    "display(Eq(y_ab,expr[y_ab]))\n",
    "plot(expr[y_ab]\n",
    "     .subs([(p,p_val),(L,L_val),(E,E_val),(I,I_val)])\n",
    "     , (x, 0, L_val))"
   ]
  }
 ],
 "metadata": {
  "anaconda-cloud": {},
  "kernelspec": {
   "display_name": "Python 3",
   "language": "python",
   "name": "python3"
  },
  "language_info": {
   "codemirror_mode": {
    "name": "ipython",
    "version": 3
   },
   "file_extension": ".py",
   "mimetype": "text/x-python",
   "name": "python",
   "nbconvert_exporter": "python",
   "pygments_lexer": "ipython3",
   "version": "3.6.0"
  },
  "latex_envs": {
   "LaTeX_envs_menu_present": true,
   "bibliofile": "biblio.bib",
   "cite_by": "apalike",
   "current_citInitial": 1,
   "eqLabelWithNumbers": true,
   "eqNumInitial": 1,
   "hotkeys": {
    "equation": "Ctrl-E",
    "itemize": "Ctrl-I"
   },
   "labels_anchors": false,
   "latex_user_defs": false,
   "report_style_numbering": false,
   "user_envs_cfg": false
  }
 },
 "nbformat": 4,
 "nbformat_minor": 1
}
