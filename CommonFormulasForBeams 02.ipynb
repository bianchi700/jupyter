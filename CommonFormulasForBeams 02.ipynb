{
 "cells": [
  {
   "cell_type": "markdown",
   "metadata": {},
   "source": [
    "## 2. Simple beam, concentrated load at center \n",
    "Common Formulas For Beams  \n",
    "        (Airframe Stress Amalysis and Sizing, Niu 2011)"
   ]
  },
  {
   "cell_type": "code",
   "execution_count": 4,
   "metadata": {
    "collapsed": true,
    "hide_input": true
   },
   "outputs": [],
   "source": [
    "from sympy import *\n",
    "import numpy as np\n",
    "from IPython.display import display\n",
    "# to print with mathjax on jupyter notebook\n",
    "init_printing()\n",
    "\n",
    "#シンボル定義\n",
    "p, x, L, E, I = symbols('P x L E I')\n",
    "r_a, r_c = symbols('R_A R_C')\n",
    "v_ab, v_bc = symbols('V_{A-B} V_{B-C}')\n",
    "m_ab, m_bc = symbols('M_{A-B} M_{A-C}')\n",
    "max_m_b = symbols('Max.M_B')\n",
    "max_y_a = symbols('Max.y_A')\n",
    "theta_a, theta_c = symbols('theta_A theta_C')\n",
    "y_ab = symbols('y_{A-B}')\n",
    "\n",
    "#式定義　[0]：左辺, [1]：右辺\n",
    "expr = {r_a:p/2,\n",
    "        r_c:p/2,\n",
    "        v_ab: p/2,\n",
    "        v_bc: -p/2,\n",
    "        m_ab: -p * x / 2,\n",
    "        m_bc: p*(L-x) / 2,\n",
    "        max_m_b: p * L/4,\n",
    "        y_ab: -p/(48*E*I) * (3 * L **2* x - 4* x **3),\n",
    "        max_y_a: -p* L ** 3/(48*E*I),\n",
    "        theta_a: -p* L ** 2/(16*E*I),\n",
    "        theta_c: p* L ** 2/(16*E*I)}"
   ]
  },
  {
   "cell_type": "markdown",
   "metadata": {
    "hide_input": true
   },
   "source": [
    "<img src=\"./fig/SignConvention2.jpg\",width=\"400\",align=\"left\">"
   ]
  },
  {
   "cell_type": "markdown",
   "metadata": {
    "hide_input": true
   },
   "source": [
    "- Loading and Support\n",
    "\n",
    "<img src=\"./fig/NiuCommonFormulas02.jpg\", width=\"300\",align=\"left\">"
   ]
  },
  {
   "cell_type": "markdown",
   "metadata": {},
   "source": [
    "- Reactions and Shears"
   ]
  },
  {
   "cell_type": "code",
   "execution_count": 6,
   "metadata": {
    "hide_input": true
   },
   "outputs": [
    {
     "data": {
      "image/png": "[encoded data removed]",
      "text/latex": [
       "$$R_{A} = \\frac{P}{2}$$"
      ],
      "text/plain": [
       "      P\n",
       "R_A = ─\n",
       "      2"
      ]
     },
     "metadata": {},
     "output_type": "display_data"
    },
    {
     "data": {
      "image/png": "[encoded data removed]",
      "text/latex": [
       "$$R_{C} = \\frac{P}{2}$$"
      ],
      "text/plain": [
       "      P\n",
       "R_C = ─\n",
       "      2"
      ]
     },
     "metadata": {},
     "output_type": "display_data"
    },
    {
     "data": {
      "image/png": "[encoded data removed]",
      "text/latex": [
       "$$V_{A-B} = \\frac{P}{2}$$"
      ],
      "text/plain": [
       "          P\n",
       "V_{A-B} = ─\n",
       "          2"
      ]
     },
     "metadata": {},
     "output_type": "display_data"
    },
    {
     "data": {
      "image/png": "[encoded data removed]",
      "text/latex": [
       "$$V_{B-C} = - \\frac{P}{2}$$"
      ],
      "text/plain": [
       "          -P \n",
       "V_{B-C} = ───\n",
       "           2 "
      ]
     },
     "metadata": {},
     "output_type": "display_data"
    }
   ],
   "source": [
    "display(Eq(r_a,expr[r_a]))\n",
    "display(Eq(r_c,expr[r_c]))\n",
    "\n",
    "display(Eq(v_ab,expr[v_ab]))\n",
    "display(Eq(v_bc,expr[v_bc]))"
   ]
  },
  {
   "cell_type": "markdown",
   "metadata": {},
   "source": [
    "- Bending Moments"
   ]
  },
  {
   "cell_type": "code",
   "execution_count": 8,
   "metadata": {
    "hide_input": true
   },
   "outputs": [
    {
     "data": {
      "image/png": "[encoded data removed]",
      "text/latex": [
       "$$M_{A-B} = - \\frac{P x}{2}$$"
      ],
      "text/plain": [
       "          -P⋅x \n",
       "M_{A-B} = ─────\n",
       "            2  "
      ]
     },
     "metadata": {},
     "output_type": "display_data"
    },
    {
     "data": {
      "image/png": "[encoded data removed]",
      "text/latex": [
       "$$M_{A-C} = \\frac{P}{2} \\left(L - x\\right)$$"
      ],
      "text/plain": [
       "          P⋅(L - x)\n",
       "M_{A-C} = ─────────\n",
       "              2    "
      ]
     },
     "metadata": {},
     "output_type": "display_data"
    },
    {
     "data": {
      "image/png": "[encoded data removed]",
      "text/latex": [
       "$$Max.M_{B} = \\frac{L P}{4}$$"
      ],
      "text/plain": [
       "          L⋅P\n",
       "Max.M_B = ───\n",
       "           4 "
      ]
     },
     "metadata": {},
     "output_type": "display_data"
    }
   ],
   "source": [
    "display(Eq(m_ab,expr[m_ab]))\n",
    "display(Eq(m_bc,expr[m_bc]))\n",
    "display(Eq(max_m_b,expr[max_m_b]))"
   ]
  },
  {
   "cell_type": "markdown",
   "metadata": {},
   "source": [
    "- Deflections and Slopes"
   ]
  },
  {
   "cell_type": "code",
   "execution_count": 11,
   "metadata": {
    "code_folding": [],
    "hide_input": true
   },
   "outputs": [
    {
     "data": {
      "image/png": "[encoded data removed]",
      "text/latex": [
       "$$y_{A-B} = - \\frac{P}{48 E I} \\left(3 L^{2} x - 4 x^{3}\\right)$$"
      ],
      "text/plain": [
       "             ⎛   2        3⎞ \n",
       "          -P⋅⎝3⋅L ⋅x - 4⋅x ⎠ \n",
       "y_{A-B} = ───────────────────\n",
       "                 48⋅E⋅I      "
      ]
     },
     "metadata": {},
     "output_type": "display_data"
    },
    {
     "data": {
      "image/png": "[encoded data removed]",
      "text/latex": [
       "$$Max.y_{A} = - \\frac{L^{3} P}{48 E I}$$"
      ],
      "text/plain": [
       "            3   \n",
       "          -L ⋅P \n",
       "Max.y_A = ──────\n",
       "          48⋅E⋅I"
      ]
     },
     "metadata": {},
     "output_type": "display_data"
    },
    {
     "data": {
      "image/png": "[encoded data removed]",
      "text/latex": [
       "$$\\theta_{A} = - \\frac{L^{2} P}{16 E I}$$"
      ],
      "text/plain": [
       "        2   \n",
       "      -L ⋅P \n",
       "θ_A = ──────\n",
       "      16⋅E⋅I"
      ]
     },
     "metadata": {},
     "output_type": "display_data"
    },
    {
     "data": {
      "image/png": "[encoded data removed]",
      "text/latex": [
       "$$\\theta_{C} = \\frac{L^{2} P}{16 E I}$$"
      ],
      "text/plain": [
       "        2   \n",
       "       L ⋅P \n",
       "θ_C = ──────\n",
       "      16⋅E⋅I"
      ]
     },
     "metadata": {},
     "output_type": "display_data"
    }
   ],
   "source": [
    "display(Eq(y_ab,expr[y_ab]))\n",
    "display(Eq(max_y_a,expr[max_y_a]))\n",
    "display(Eq(theta_a,expr[theta_a]))\n",
    "display(Eq(theta_c,expr[theta_c]))"
   ]
  },
  {
   "cell_type": "markdown",
   "metadata": {},
   "source": [
    "- Input Value"
   ]
  },
  {
   "cell_type": "code",
   "execution_count": 13,
   "metadata": {
    "hide_input": true
   },
   "outputs": [
    {
     "data": {
      "image/png": "[encoded data removed]",
      "text/latex": [
       "$$P = 10.0$$"
      ],
      "text/plain": [
       "P = 10.0"
      ]
     },
     "metadata": {},
     "output_type": "display_data"
    },
    {
     "data": {
      "image/png": "[encoded data removed]",
      "text/latex": [
       "$$L = 1000.0$$"
      ],
      "text/plain": [
       "L = 1000.0"
      ]
     },
     "metadata": {},
     "output_type": "display_data"
    },
    {
     "data": {
      "image/png": "[encoded data removed]",
      "text/latex": [
       "$$E = 900.0$$"
      ],
      "text/plain": [
       "E = 900.0"
      ]
     },
     "metadata": {},
     "output_type": "display_data"
    },
    {
     "data": {
      "image/png": "[encoded data removed]",
      "text/latex": [
       "$$I = 1000000.0$$"
      ],
      "text/plain": [
       "I = 1000000.0"
      ]
     },
     "metadata": {},
     "output_type": "display_data"
    }
   ],
   "source": [
    "p_val= 10.\n",
    "L_val= 1*1e3\n",
    "E_val= 9* 1e2\n",
    "I_val= 1e6\n",
    "\n",
    "display(Eq(p,p_val))\n",
    "display(Eq(L,L_val))\n",
    "display(Eq(E,E_val))\n",
    "display(Eq(I,I_val))"
   ]
  },
  {
   "cell_type": "markdown",
   "metadata": {},
   "source": [
    "- Result"
   ]
  },
  {
   "cell_type": "code",
   "execution_count": 15,
   "metadata": {
    "hide_input": true
   },
   "outputs": [
    {
     "data": {
      "image/png": "[encoded data removed]",
      "text/latex": [
       "$$R_{A} = 5.0$$"
      ],
      "text/plain": [
       "R_A = 5.0"
      ]
     },
     "metadata": {},
     "output_type": "display_data"
    },
    {
     "data": {
      "image/png": "[encoded data removed]",
      "text/latex": [
       "$$R_{C} = 5.0$$"
      ],
      "text/plain": [
       "R_C = 5.0"
      ]
     },
     "metadata": {},
     "output_type": "display_data"
    },
    {
     "data": {
      "image/png": "[encoded data removed]",
      "text/latex": [
       "$$Max.M_{B} = 2500.0$$"
      ],
      "text/plain": [
       "Max.M_B = 2500.0"
      ]
     },
     "metadata": {},
     "output_type": "display_data"
    },
    {
     "data": {
      "image/png": "[encoded data removed]",
      "text/latex": [
       "$$Max.y_{A} = -0.231481481481481$$"
      ],
      "text/plain": [
       "Max.y_A = -0.231481481481481"
      ]
     },
     "metadata": {},
     "output_type": "display_data"
    },
    {
     "data": {
      "image/png": "[encoded data removed]",
      "text/latex": [
       "$$\\theta_{A} = -0.000694444444444444$$"
      ],
      "text/plain": [
       "θ_A = -0.000694444444444444"
      ]
     },
     "metadata": {},
     "output_type": "display_data"
    },
    {
     "data": {
      "image/png": "[encoded data removed]",
      "text/latex": [
       "$$\\theta_{C} = 0.000694444444444444$$"
      ],
      "text/plain": [
       "θ_C = 0.000694444444444444"
      ]
     },
     "metadata": {},
     "output_type": "display_data"
    }
   ],
   "source": [
    "display(Eq(r_a,expr[r_a].subs([(p,p_val)])))\n",
    "display(Eq(r_c,expr[r_c].subs([(p,p_val)])))\n",
    "display(Eq(max_m_b,expr[max_m_b]\n",
    "           .subs([(p,p_val),(L,L_val)])))\n",
    "display(Eq(max_y_a,expr[max_y_a]\n",
    "           .subs([(p,p_val),(L,L_val),(E,E_val),(I,I_val)])))\n",
    "display(Eq(theta_a,expr[theta_a]\n",
    "           .subs([(p,p_val),(L,L_val),(E,E_val),(I,I_val)])))\n",
    "display(Eq(theta_c,expr[theta_c]\n",
    "           .subs([(p,p_val),(L,L_val),(E,E_val),(I,I_val)])))"
   ]
  },
  {
   "cell_type": "markdown",
   "metadata": {},
   "source": [
    "----"
   ]
  },
  {
   "cell_type": "code",
   "execution_count": 80,
   "metadata": {
    "hide_input": true
   },
   "outputs": [
    {
     "data": {
      "image/png": "[encoded data removed]",
      "text/latex": [
       "$$V_{A-B} = \\frac{P}{2}$$"
      ],
      "text/plain": [
       "          P\n",
       "V_{A-B} = ─\n",
       "          2"
      ]
     },
     "metadata": {},
     "output_type": "display_data"
    },
    {
     "data": {
      "image/png": "[encoded data removed]",
      "text/latex": [
       "$$V_{B-C} = - \\frac{P}{2}$$"
      ],
      "text/plain": [
       "          -P \n",
       "V_{B-C} = ───\n",
       "           2 "
      ]
     },
     "metadata": {},
     "output_type": "display_data"
    },
    {
     "data": {
      "image/png": "[encoded data removed]",
      "text/plain": [
       "<matplotlib.figure.Figure at 0x2cde254eda0>"
      ]
     },
     "metadata": {},
     "output_type": "display_data"
    },
    {
     "data": {
      "text/plain": [
       "<sympy.plotting.plot.Plot at 0x2cde1f26e10>"
      ]
     },
     "execution_count": 80,
     "metadata": {},
     "output_type": "execute_result"
    }
   ],
   "source": [
    "%matplotlib inline\n",
    "from sympy import init_printing\n",
    "from sympy import interpolate\n",
    "from sympy.plotting import plot,plot_parametric\n",
    "\n",
    "u,v = symbols('u v')\n",
    "\n",
    "display(Eq(v_ab,expr[v_ab]))\n",
    "display(Eq(v_bc,expr[v_bc]))\n",
    "\n",
    "d1,d2,d3=0,L_val/2,L_val\n",
    "\n",
    "f1 = expr[v_ab].subs([(p,p_val),(L,L_val),(E,E_val),(I,I_val)])\n",
    "f3 = expr[v_bc].subs([(p,p_val),(L,L_val),(E,E_val),(I,I_val)])\n",
    "\n",
    "plot_parametric((u,f1,(u,d1,d2)),\n",
    "                (d2,v,(v,f1,f3)),\n",
    "                (u,f3,(u,d2,d3)))"
   ]
  },
  {
   "cell_type": "code",
   "execution_count": 101,
   "metadata": {
    "hide_input": true,
    "scrolled": true
   },
   "outputs": [
    {
     "data": {
      "image/png": "[encoded data removed]",
      "text/latex": [
       "$$V_{A-B} = - \\frac{P x}{2}$$"
      ],
      "text/plain": [
       "          -P⋅x \n",
       "V_{A-B} = ─────\n",
       "            2  "
      ]
     },
     "metadata": {},
     "output_type": "display_data"
    },
    {
     "data": {
      "image/png": "[encoded data removed]",
      "text/latex": [
       "$$V_{B-C} = \\frac{P}{2} \\left(L - x\\right)$$"
      ],
      "text/plain": [
       "          P⋅(L - x)\n",
       "V_{B-C} = ─────────\n",
       "              2    "
      ]
     },
     "metadata": {},
     "output_type": "display_data"
    },
    {
     "data": {
      "image/png": "[encoded data removed]",
      "text/plain": [
       "<matplotlib.figure.Figure at 0x2cde3d71828>"
      ]
     },
     "metadata": {},
     "output_type": "display_data"
    },
    {
     "data": {
      "text/plain": [
       "<sympy.plotting.plot.Plot at 0x2cde3d71a90>"
      ]
     },
     "execution_count": 101,
     "metadata": {},
     "output_type": "execute_result"
    }
   ],
   "source": [
    "%matplotlib inline\n",
    "from sympy import init_printing\n",
    "from sympy import interpolate\n",
    "from sympy.plotting import plot,plot_parametric\n",
    "\n",
    "u,v = symbols('u v')\n",
    "\n",
    "display(Eq(v_ab,expr[m_ab]))\n",
    "display(Eq(v_bc,expr[m_bc]))\n",
    "\n",
    "d1,d2,d3=0,L_val/2,L_val\n",
    "\n",
    "f1 = expr[m_ab].subs([(p,p_val),(L,L_val),(E,E_val),(I,I_val)])\n",
    "f3 = expr[m_bc].subs([(p,p_val),(L,L_val),(E,E_val),(I,I_val)])\n",
    "\n",
    "plot_parametric((u,f1.subs(x,u),(u,d1,d2)),\n",
    "                (d2,v,(v,f1.subs(x,d2),f3.subs(x,d2))),\n",
    "                (u,f3.subs(x,u),(u,d2,d3)))"
   ]
  },
  {
   "cell_type": "code",
   "execution_count": 35,
   "metadata": {
    "hide_input": true
   },
   "outputs": [
    {
     "data": {
      "image/png": "[encoded data removed]",
      "text/latex": [
       "$$y_{A-B} = - \\frac{P}{48 E I} \\left(3 L^{2} x - 4 x^{3}\\right)$$"
      ],
      "text/plain": [
       "             ⎛   2        3⎞ \n",
       "          -P⋅⎝3⋅L ⋅x - 4⋅x ⎠ \n",
       "y_{A-B} = ───────────────────\n",
       "                 48⋅E⋅I      "
      ]
     },
     "metadata": {},
     "output_type": "display_data"
    },
    {
     "data": {
      "image/png": "[encoded data removed]",
      "text/plain": [
       "<matplotlib.figure.Figure at 0x2cde0ba4b70>"
      ]
     },
     "metadata": {},
     "output_type": "display_data"
    },
    {
     "data": {
      "text/plain": [
       "<sympy.plotting.plot.Plot at 0x2cde0ba47f0>"
      ]
     },
     "execution_count": 35,
     "metadata": {},
     "output_type": "execute_result"
    }
   ],
   "source": [
    "%matplotlib inline\n",
    "from sympy import init_printing\n",
    "from sympy.plotting import plot\n",
    "display(Eq(y_ab,expr[y_ab]))\n",
    "plot(expr[y_ab]\n",
    "     .subs([(p,p_val),(L,L_val),(E,E_val),(I,I_val)])\n",
    "     , (x, 0, L_val/2))"
   ]
  },
  {
   "cell_type": "code",
   "execution_count": null,
   "metadata": {
    "collapsed": true
   },
   "outputs": [],
   "source": []
  }
 ],
 "metadata": {
  "anaconda-cloud": {},
  "kernelspec": {
   "display_name": "Python 3",
   "language": "python",
   "name": "python3"
  },
  "language_info": {
   "codemirror_mode": {
    "name": "ipython",
    "version": 3
   },
   "file_extension": ".py",
   "mimetype": "text/x-python",
   "name": "python",
   "nbconvert_exporter": "python",
   "pygments_lexer": "ipython3",
   "version": "3.6.1"
  },
  "latex_envs": {
   "LaTeX_envs_menu_present": true,
   "bibliofile": "biblio.bib",
   "cite_by": "apalike",
   "current_citInitial": 1,
   "eqLabelWithNumbers": true,
   "eqNumInitial": 1,
   "hotkeys": {
    "equation": "Ctrl-E",
    "itemize": "Ctrl-I"
   },
   "labels_anchors": false,
   "latex_user_defs": false,
   "report_style_numbering": false,
   "user_envs_cfg": false
  },
  "varInspector": {
   "cols": {
    "lenName": 16,
    "lenType": 16,
    "lenVar": 40
   },
   "kernels_config": {
    "python": {
     "delete_cmd_postfix": "",
     "delete_cmd_prefix": "del ",
     "library": "var_list.py",
     "varRefreshCmd": "print(var_dic_list())"
    },
    "r": {
     "delete_cmd_postfix": ") ",
     "delete_cmd_prefix": "rm(",
     "library": "var_list.r",
     "varRefreshCmd": "cat(var_dic_list()) "
    }
   },
   "types_to_exclude": [
    "module",
    "function",
    "builtin_function_or_method",
    "instance",
    "_Feature"
   ],
   "window_display": false
  }
 },
 "nbformat": 4,
 "nbformat_minor": 1
}
