{
 "cells": [
  {
   "cell_type": "markdown",
   "metadata": {},
   "source": [
    "# AKT-95 運動包囲線図\n",
    "## 1. 制限運動荷重倍数、および各対気速度の設定\n",
    "本機は、対空類別**実用U類**を基準に設計する。U類の主な要件は以下の通り。\n",
    "- 最大離陸重量：5,700kg以下 (耐審1-1-2-2)\n",
    "- 最大重量における$V_{S0}$、$V_{S1}$：113km/h以下 (耐審2-2-2-3)\n",
    "- 設計対気速度\n",
    "    - 設計巡行速度 $V_{C}$：$V_{C} \\ge 27.7 \\sqrt{(W/S)}$ (km/h) (耐審3-2-4-1)\n",
    "    - 設計急降下速度 $V_{D}$：$V_{D} = 1.50 \\times V_{Cmin}$ (km/h) (耐審3-2-4-2)\n",
    "    - 設計運動速度 $V_{A}$：$V_{A} \\ge V_{S} \\sqrt{n}$ (km/h) (耐審3-2-4-3)\n",
    "- 制限運動荷重倍数\n",
    "    - 正の運動荷重倍数：$n = 4.4$ (耐審3-2-5-1)\n",
    "    - 負の運動荷重倍数：$n = -1.76 \\ (= 4.4 \\times -0.4)$ (耐審3-2-5-1)\n",
    "    \n",
    "    \n",
    "本機の諸元は、以下の通りなので(2018/5時点)\n",
    "- 最大離陸重量：$W = 750$ (kg)\n",
    "- 主翼面積：$S = 19.2$ (m<sup>2</sup>)\n",
    "- 翼面荷重：$(W/S) = 750 / 19.2 = 39.1$ (kg/m<sup>2</sup>)\n",
    "- 正の最大揚力係数：$C_{LMAX} = + 1.50$\n",
    "\n",
    "\n",
    "1. 失速速度：$V_{S}$  \n",
    "    $V_{S} = \\sqrt{ \\frac{16W}{S C_{Lmax}}}　\n",
    "    = \\sqrt{\\frac{16 \\times 750}{19.2 \\times 1.50}} = 20.4$ (m/s) $ = \\underline{73.4}$ (km/h)\n",
    "\n",
    "2. 設計運動速度：$V_{A}$   \n",
    "    $V_{Amin} = 73.4 \\sqrt{(4.4)} = \\underline{154.0}$ (km/h) ${= 42.8}$ (m/s)\n",
    "3. 最小設計巡行速度：$V_{Cmin}$  \n",
    "    $V_{Cmin} = 27.7 \\sqrt{(39.1)} = \\underline{173.2}$ (km/h) ${= 48.1}$ (m/s)\n",
    "\n",
    "4. 最小設計急降下速度：$V_{Dmin}$  \n",
    "    $V_{Dmin} = 1.5 \\times 173.2 = \\underline{259.8}$ (km/h) ${= 72.2}$ (m/s)\n",
    "    \n",
    "よって、本機の設計に用いる制限運動荷重倍数、および各対気速度を以下のように設定する。\n",
    "\n",
    "- 正の運動荷重倍数：$n = 4.4$\n",
    "- 負の運動荷重倍数：$n = -1.76$  \n",
    "\n",
    "- 失速速度：$V_{S} = 73.4$ (km/h) ${= 20.4}$ (m/s)\n",
    "- 設計運動速度：$V_{A} = 154.0$ (km/h) ${= 42.8}$ (m/s)\n",
    "- 設計巡行速度：$V_{C} = 173.2$ (km/h) ${= 48.1}$ (m/s)\n",
    "- 設計急降下速度：$V_{D} = 260.0$ (km/h) ${= 72.2}$ (m/s)  "
   ]
  },
  {
   "cell_type": "markdown",
   "metadata": {},
   "source": [
    "## 2. V-n線図の作成\n",
    "\n",
    "　失速速度、設計運動速度、揚力係数の関係は以下の通りである。  \n",
    "本機の諸元を元に各ケースでの値を計算し、下図のようなV-n線図を作成する。  \n",
    "\n",
    "$$ 失速速度：V_{S} = \\sqrt{ \\frac{16W}{S C_{Lmax}}} \\\\\n",
    "設計運動速度：V_{A} = \\sqrt{ \\frac{16 n W}{S C_{Lmax}}} \\\\\n",
    "揚力係数：C_{L} = \\frac{16 n W}{V^{2} S}$$\n",
    "\n",
    "**耐空性審査要領中の例**\n",
    "\n",
    "<img src='vn線図-耐審.jpeg' style=\"float:left;width:15cm;\">"
   ]
  },
  {
   "cell_type": "code",
   "execution_count": 1,
   "metadata": {
    "code_folding": [
     0
    ],
    "collapsed": true,
    "hide_input": true
   },
   "outputs": [],
   "source": [
    "##### 外部ライブラリインポート\n",
    "import numpy as np\n",
    "import pandas as pd\n",
    "pd.options.display.precision = 2\n",
    "import matplotlib.pyplot as plt\n",
    "import matplotlib.patches as patches\n",
    "%matplotlib inline"
   ]
  },
  {
   "cell_type": "markdown",
   "metadata": {},
   "source": [
    "### 諸元"
   ]
  },
  {
   "cell_type": "code",
   "execution_count": 2,
   "metadata": {
    "collapsed": true,
    "hide_input": true
   },
   "outputs": [],
   "source": [
    "#機体諸元\n",
    "W = 750.0 # 機体重量 (kg)\n",
    "Sw = 19.2 # 主翼面積 (m^2)\n",
    "#lm = 1.3 # 平均翼弦長\n",
    "#aw = 5.067 # 主翼の揚力傾斜 (1/rad)\n",
    "\n",
    "#荷重倍数\n",
    "n1 = 4.4 # 荷重倍数1\n",
    "n2 = 4.4 # 荷重倍数2\n",
    "n3 = -1.76 # 荷重倍数3\n",
    "n4 = -1.76 # 荷重倍数4\n",
    "\n",
    "#最大揚力係数\n",
    "clmax_p = 1.50 #最大揚力係数（＋）\n",
    "clmax_n = -0.80 #最大揚力係数（ー）\n",
    "\n",
    "#各種速度\n",
    "v_d = 72.2 #設計急降下速度 (m/s)\n",
    "v_c = 48.1 #巡行速度 (m/s)\n",
    "\n",
    "#物理値\n",
    "#p0 = 1.225 # 海面上の空気密度 (kg/m^3)\n",
    "#G = 9.81 # 重力加速度 (m/s^2)"
   ]
  },
  {
   "cell_type": "markdown",
   "metadata": {},
   "source": [
    "### 失速速度、設計運動速度の計算"
   ]
  },
  {
   "cell_type": "code",
   "execution_count": 3,
   "metadata": {
    "code_folding": [
     0
    ]
   },
   "outputs": [],
   "source": [
    "#関数、クラス定義\n",
    "def calc_cl(n,v,W,Sw): \n",
    "    r = round((16 * n * W /(v**2 *Sw)),2)\n",
    "    return r\n",
    "\n",
    "def calc_v(n,cl,W,Sw):\n",
    "    r = round(np.sqrt(abs((16 * n * W) / (Sw * cl))),1)\n",
    "    return r\n",
    "\n",
    "def calc_n(v,cl,W,Sw):\n",
    "    r = round((Sw * cl * v ** 2)/(16 * W),2)\n",
    "    return r\n",
    "\n",
    "#### ケース定義\n",
    "cur_cases={'A':{'n':n1,\n",
    "                'Cl':clmax_p,\n",
    "                'V':calc_v(n1,clmax_p,W,Sw)},\n",
    "           'D':{'n':n2,\n",
    "                'Cl':calc_cl(n2,v_d,W,Sw),\n",
    "                'V':v_d},\n",
    "           'D0':{'n':0.,\n",
    "                 'Cl':calc_cl(0.,v_d,W,Sw),\n",
    "                 'V':v_d},\n",
    "           'G':{'n':n3,\n",
    "                'Cl':clmax_n,\n",
    "                'V':calc_v(n3,clmax_n,W,Sw)},\n",
    "           'E':{'n':n4,\n",
    "                'Cl':calc_cl(n4,v_d,W,Sw),\n",
    "                'V':v_d},\n",
    "           'C':{'n':1.,\n",
    "                'Cl':calc_cl(1.,v_c,W,Sw),\n",
    "                'V':v_c},\n",
    "           'pVs':{'n':1.,\n",
    "                  'Cl':clmax_p,\n",
    "                  'V':calc_v(1.,clmax_p,W,Sw)},\n",
    "           'nVs':{'n':-1.,\n",
    "                  'Cl':clmax_n,\n",
    "                  'V':calc_v(-1.,clmax_n,W,Sw)}\n",
    "          }"
   ]
  },
  {
   "cell_type": "markdown",
   "metadata": {},
   "source": [
    "### V-n線図の作成"
   ]
  },
  {
   "cell_type": "code",
   "execution_count": 4,
   "metadata": {
    "code_folding": [
     0
    ],
    "hide_input": true
   },
   "outputs": [
    {
     "name": "stderr",
     "output_type": "stream",
     "text": [
      "C:\\Users\\cozy\\Anaconda3\\lib\\site-packages\\matplotlib\\font_manager.py:1328: UserWarning: findfont: Font family ['IPAexGothic'] not found. Falling back to DejaVu Sans\n",
      "  (prop.get_family(), self.defaultFamily[fontext]))\n"
     ]
    },
    {
     "data": {
      "image/png": "[encoded data removed]",
      "text/plain": [
       "<Figure size 864x432 with 1 Axes>"
      ]
     },
     "metadata": {},
     "output_type": "display_data"
    }
   ],
   "source": [
    "#V-n線図作成\n",
    "plt.style.use('ggplot')\n",
    "\n",
    "fig,ax = plt.subplots(figsize=(12,6))\n",
    "\n",
    "\n",
    "# O-Vs\n",
    "v = np.linspace(0., cur_cases['pVs']['V'], 100)\n",
    "n = np.array([calc_n(_v,clmax_p,W,Sw) for _v in v])\n",
    "ax.plot(v,n,c = 'indigo',ls = ':')\n",
    "\n",
    "ax.plot([cur_cases['pVs']['V'],cur_cases['pVs']['V']],\n",
    "        [0.,cur_cases['pVs']['n']]\n",
    "        ,c = 'indigo',ls = ':')\n",
    "\n",
    "# Vs-Va\n",
    "v = np.linspace(cur_cases['pVs']['V'], cur_cases['A']['V'], 100)\n",
    "n = np.array([calc_n(_v,clmax_p,W,Sw) for _v in v])\n",
    "ax.plot(v,n,c = 'indigo',ls = '-')\n",
    "\n",
    "#直線部\n",
    "ax.plot([cur_cases['A']['V'],cur_cases['D']['V'],cur_cases['E']['V'],cur_cases['G']['V']],\n",
    "        [cur_cases['A']['n'],cur_cases['D']['n'],cur_cases['E']['n'],cur_cases['G']['n']]\n",
    "        ,c = 'indigo',ls = '-')\n",
    "\n",
    "# O-負失速\n",
    "v = np.linspace(0., cur_cases['nVs']['V'], 100)\n",
    "n = np.array([calc_n(_v,clmax_n,W,Sw) for _v in v])\n",
    "ax.plot(v,n,c = 'indigo',ls = ':')\n",
    "\n",
    "ax.plot([cur_cases['nVs']['V'],cur_cases['nVs']['V']],\n",
    "        [0.,cur_cases['nVs']['n']]\n",
    "        ,c = 'indigo',ls = ':')\n",
    "\n",
    "# 負失速-Vg\n",
    "v = np.linspace(cur_cases['nVs']['V'], cur_cases['G']['V'], 100)\n",
    "n = np.array([calc_n(_v,clmax_n,W,Sw) for _v in v])\n",
    "ax.plot(v,n,c = 'indigo',ls = '-')\n",
    "\n",
    "#タイトル等設定\n",
    "ax.set_title('AKT95 V-n線図',fontname='IPAexGothic')\n",
    "ax.set_xlabel('V (m/s)')\n",
    "ax.set_ylabel('n')\n",
    "\n",
    "for _c in ('A','D','D0','C','G','E'):\n",
    "    ax.text(cur_cases[_c]['V'],cur_cases[_c]['n'],_c,fontsize = 15,ha ='center',va='bottom')\n",
    "    ax.scatter(cur_cases[_c]['V'],cur_cases[_c]['n'],c='green')\n",
    "\n",
    "ax.plot((-5,cur_cases['D']['V']+5),(0,0),c='grey')\n",
    "ax.plot((0,0),(cur_cases['G']['n']-.2,cur_cases['A']['n']+.2),c='grey')\n",
    "\n",
    "plt.show()\n",
    "fig.savefig('v-n線図.png')"
   ]
  },
  {
   "cell_type": "code",
   "execution_count": 5,
   "metadata": {
    "code_folding": [
     0
    ],
    "collapsed": true
   },
   "outputs": [],
   "source": [
    "#結果をCSVファイルに出力\n",
    "from datetime import datetime\n",
    "\n",
    "df=pd.DataFrame([pd.Series(cur_cases[_c]) for _c in cur_cases.keys()],index=cur_cases.keys())\n",
    "\n",
    "cur_dt = datetime.now().strftime('%Y%m%d-%H%M%S')\n",
    "out_file_name = 'AKT95 V-n線図'+ cur_dt + '.csv'\n",
    "\n",
    "df.to_csv(out_file_name)"
   ]
  },
  {
   "cell_type": "code",
   "execution_count": 6,
   "metadata": {
    "code_folding": [
     0
    ]
   },
   "outputs": [
    {
     "data": {
      "text/html": [
       "<div>\n",
       "<style scoped>\n",
       "    .dataframe tbody tr th:only-of-type {\n",
       "        vertical-align: middle;\n",
       "    }\n",
       "\n",
       "    .dataframe tbody tr th {\n",
       "        vertical-align: top;\n",
       "    }\n",
       "\n",
       "    .dataframe thead th {\n",
       "        text-align: right;\n",
       "    }\n",
       "</style>\n",
       "<table border=\"1\" class=\"dataframe\">\n",
       "  <thead>\n",
       "    <tr style=\"text-align: right;\">\n",
       "      <th></th>\n",
       "      <th>CL</th>\n",
       "      <th>V(m/s)</th>\n",
       "      <th>n</th>\n",
       "    </tr>\n",
       "  </thead>\n",
       "  <tbody>\n",
       "    <tr>\n",
       "      <th>A</th>\n",
       "      <td>4.40</td>\n",
       "      <td>1.50</td>\n",
       "      <td>42.8</td>\n",
       "    </tr>\n",
       "    <tr>\n",
       "      <th>D</th>\n",
       "      <td>4.40</td>\n",
       "      <td>0.53</td>\n",
       "      <td>72.2</td>\n",
       "    </tr>\n",
       "    <tr>\n",
       "      <th>D0</th>\n",
       "      <td>0.00</td>\n",
       "      <td>0.00</td>\n",
       "      <td>72.2</td>\n",
       "    </tr>\n",
       "    <tr>\n",
       "      <th>G</th>\n",
       "      <td>-1.76</td>\n",
       "      <td>-0.80</td>\n",
       "      <td>37.1</td>\n",
       "    </tr>\n",
       "    <tr>\n",
       "      <th>E</th>\n",
       "      <td>-1.76</td>\n",
       "      <td>-0.21</td>\n",
       "      <td>72.2</td>\n",
       "    </tr>\n",
       "    <tr>\n",
       "      <th>C</th>\n",
       "      <td>1.00</td>\n",
       "      <td>0.27</td>\n",
       "      <td>48.1</td>\n",
       "    </tr>\n",
       "    <tr>\n",
       "      <th>pVs</th>\n",
       "      <td>1.00</td>\n",
       "      <td>1.50</td>\n",
       "      <td>20.4</td>\n",
       "    </tr>\n",
       "    <tr>\n",
       "      <th>nVs</th>\n",
       "      <td>-1.00</td>\n",
       "      <td>-0.80</td>\n",
       "      <td>28.0</td>\n",
       "    </tr>\n",
       "  </tbody>\n",
       "</table>\n",
       "</div>"
      ],
      "text/plain": [
       "       CL  V(m/s)     n\n",
       "A    4.40    1.50  42.8\n",
       "D    4.40    0.53  72.2\n",
       "D0   0.00    0.00  72.2\n",
       "G   -1.76   -0.80  37.1\n",
       "E   -1.76   -0.21  72.2\n",
       "C    1.00    0.27  48.1\n",
       "pVs  1.00    1.50  20.4\n",
       "nVs -1.00   -0.80  28.0"
      ]
     },
     "execution_count": 6,
     "metadata": {},
     "output_type": "execute_result"
    }
   ],
   "source": [
    "#カラム名を単位付きに変更して表示\n",
    "df.columns=['CL','V(m/s)','n']\n",
    "df"
   ]
  },
  {
   "cell_type": "code",
   "execution_count": 7,
   "metadata": {
    "code_folding": [
     0
    ]
   },
   "outputs": [],
   "source": [
    "#結果をJSON形式で出力\n",
    "import json\n",
    "out_file_name = 'AKT95 V-n線図'+ cur_dt + '.json'\n",
    "\n",
    "with open(out_file_name,'w') as f:\n",
    "    json.dump(cur_cases,f,indent=4)"
   ]
  },
  {
   "cell_type": "code",
   "execution_count": null,
   "metadata": {
    "collapsed": true
   },
   "outputs": [],
   "source": []
  }
 ],
 "metadata": {
  "anaconda-cloud": {},
  "kernelspec": {
   "display_name": "Python 3",
   "language": "python",
   "name": "python3"
  },
  "language_info": {
   "codemirror_mode": {
    "name": "ipython",
    "version": 3
   },
   "file_extension": ".py",
   "mimetype": "text/x-python",
   "name": "python",
   "nbconvert_exporter": "python",
   "pygments_lexer": "ipython3",
   "version": "3.6.5"
  },
  "latex_envs": {
   "LaTeX_envs_menu_present": true,
   "bibliofile": "biblio.bib",
   "cite_by": "apalike",
   "current_citInitial": 1,
   "eqLabelWithNumbers": true,
   "eqNumInitial": 1,
   "hotkeys": {
    "equation": "Ctrl-E",
    "itemize": "Ctrl-I"
   },
   "labels_anchors": false,
   "latex_user_defs": false,
   "report_style_numbering": false,
   "user_envs_cfg": false
  },
  "varInspector": {
   "cols": {
    "lenName": 16,
    "lenType": 16,
    "lenVar": 40
   },
   "kernels_config": {
    "python": {
     "delete_cmd_postfix": "",
     "delete_cmd_prefix": "del ",
     "library": "var_list.py",
     "varRefreshCmd": "print(var_dic_list())"
    },
    "r": {
     "delete_cmd_postfix": ") ",
     "delete_cmd_prefix": "rm(",
     "library": "var_list.r",
     "varRefreshCmd": "cat(var_dic_list()) "
    }
   },
   "types_to_exclude": [
    "module",
    "function",
    "builtin_function_or_method",
    "instance",
    "_Feature"
   ],
   "window_display": false
  }
 },
 "nbformat": 4,
 "nbformat_minor": 2
}
